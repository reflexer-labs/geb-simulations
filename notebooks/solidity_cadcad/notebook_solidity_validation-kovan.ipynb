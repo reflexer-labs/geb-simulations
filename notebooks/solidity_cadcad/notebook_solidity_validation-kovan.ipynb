{
 "cells": [
  {
   "cell_type": "markdown",
   "metadata": {},
   "source": [
    "### Notes:\n",
    "\n",
    "* jupyter notebook shows visualizations of the results from solidity implementation, cadCAD model, kovan and error metrics"
   ]
  },
  {
   "cell_type": "code",
   "execution_count": 1,
   "metadata": {},
   "outputs": [],
   "source": [
    "from pathlib import Path\n",
    "from decimal import Decimal\n",
    "import datetime\n",
    "import os\n",
    "import csv\n",
    "import sys\n",
    "import datetime as dt\n",
    "import json\n",
    "from enum import Enum\n",
    "import pandas as pd\n",
    "import numpy as np\n",
    "%matplotlib inline\n",
    "\n",
    "sys.path.append('./models')\n",
    "\n",
    "path = Path().resolve()\n",
    "root_path = str(path).split('notebooks')[0]\n",
    "os.chdir(root_path)"
   ]
  },
  {
   "cell_type": "code",
   "execution_count": 2,
   "metadata": {},
   "outputs": [],
   "source": [
    "# history of PIRateSetter UpdateRedemptionRate Events pulled from kovan archive node\n",
    "events = pd.read_csv('./tests/data/updateredemptionrate.csv.gz').iloc[:]\n",
    "events['ts_delta'] = events['ts'].diff()"
   ]
  },
  {
   "cell_type": "code",
   "execution_count": 3,
   "metadata": {},
   "outputs": [
    {
     "data": {
      "text/html": [
       "<div>\n",
       "<style scoped>\n",
       "    .dataframe tbody tr th:only-of-type {\n",
       "        vertical-align: middle;\n",
       "    }\n",
       "\n",
       "    .dataframe tbody tr th {\n",
       "        vertical-align: top;\n",
       "    }\n",
       "\n",
       "    .dataframe thead th {\n",
       "        text-align: right;\n",
       "    }\n",
       "</style>\n",
       "<table border=\"1\" class=\"dataframe\">\n",
       "  <thead>\n",
       "    <tr style=\"text-align: right;\">\n",
       "      <th></th>\n",
       "      <th>marketPrice</th>\n",
       "      <th>redemptionPrice</th>\n",
       "      <th>redemptionRate</th>\n",
       "      <th>transactionHash</th>\n",
       "      <th>address</th>\n",
       "      <th>blockNumber</th>\n",
       "      <th>ts</th>\n",
       "      <th>ts_delta</th>\n",
       "    </tr>\n",
       "  </thead>\n",
       "  <tbody>\n",
       "    <tr>\n",
       "      <th>0</th>\n",
       "      <td>5158634825269270578000000000</td>\n",
       "      <td>3069049498519715117488353819</td>\n",
       "      <td>999999998955207336625222270</td>\n",
       "      <td>0x16601870b8c4dc9e63baf0d07d810ec26d61c04844fe...</td>\n",
       "      <td>0x97533CD0c5997bce2504378CB29a091830de0F94</td>\n",
       "      <td>29727211</td>\n",
       "      <td>1644351052</td>\n",
       "      <td>NaN</td>\n",
       "    </tr>\n",
       "    <tr>\n",
       "      <th>1</th>\n",
       "      <td>5119936915872816092000000000</td>\n",
       "      <td>3068977352658686529626576365</td>\n",
       "      <td>999999846178032758940282822</td>\n",
       "      <td>0x78d5a7892e2418f786e70b0a55ad6f9b37c8f9b7abbc...</td>\n",
       "      <td>0x97533CD0c5997bce2504378CB29a091830de0F94</td>\n",
       "      <td>29732208</td>\n",
       "      <td>1644373552</td>\n",
       "      <td>22500.0</td>\n",
       "    </tr>\n",
       "    <tr>\n",
       "      <th>2</th>\n",
       "      <td>5102952610086358532000000000</td>\n",
       "      <td>3058373998490887100392595607</td>\n",
       "      <td>999999845629135990734283981</td>\n",
       "      <td>0xf5ca0453140ce69bbf74bf09b052abda208835f04844...</td>\n",
       "      <td>0x97533CD0c5997bce2504378CB29a091830de0F94</td>\n",
       "      <td>29737038</td>\n",
       "      <td>1644396052</td>\n",
       "      <td>22500.0</td>\n",
       "    </tr>\n",
       "  </tbody>\n",
       "</table>\n",
       "</div>"
      ],
      "text/plain": [
       "                    marketPrice               redemptionPrice  \\\n",
       "0  5158634825269270578000000000  3069049498519715117488353819   \n",
       "1  5119936915872816092000000000  3068977352658686529626576365   \n",
       "2  5102952610086358532000000000  3058373998490887100392595607   \n",
       "\n",
       "                redemptionRate  \\\n",
       "0  999999998955207336625222270   \n",
       "1  999999846178032758940282822   \n",
       "2  999999845629135990734283981   \n",
       "\n",
       "                                     transactionHash  \\\n",
       "0  0x16601870b8c4dc9e63baf0d07d810ec26d61c04844fe...   \n",
       "1  0x78d5a7892e2418f786e70b0a55ad6f9b37c8f9b7abbc...   \n",
       "2  0xf5ca0453140ce69bbf74bf09b052abda208835f04844...   \n",
       "\n",
       "                                      address  blockNumber          ts  \\\n",
       "0  0x97533CD0c5997bce2504378CB29a091830de0F94     29727211  1644351052   \n",
       "1  0x97533CD0c5997bce2504378CB29a091830de0F94     29732208  1644373552   \n",
       "2  0x97533CD0c5997bce2504378CB29a091830de0F94     29737038  1644396052   \n",
       "\n",
       "   ts_delta  \n",
       "0       NaN  \n",
       "1   22500.0  \n",
       "2   22500.0  "
      ]
     },
     "execution_count": 3,
     "metadata": {},
     "output_type": "execute_result"
    }
   ],
   "source": [
    "events.head(3)"
   ]
  },
  {
   "cell_type": "code",
   "execution_count": 4,
   "metadata": {},
   "outputs": [],
   "source": [
    "# Convert integers(RAY) to decimals\n",
    "events['redemptionRateDec'] = (events['redemptionRate']).apply(lambda x: Decimal(x)/Decimal(1e27)) - 1\n",
    "events['redemptionPriceDec'] = (events['redemptionPrice']).apply(lambda x: Decimal(x)/Decimal(1e27))"
   ]
  },
  {
   "cell_type": "code",
   "execution_count": 5,
   "metadata": {},
   "outputs": [],
   "source": [
    "market_prices = events['marketPrice'].iloc[1:].apply(lambda x: float(x)/1E27)#.reset_index(drop=True)\n",
    "delta_t = events['ts_delta'].iloc[1:]#.reset_index(drop=True)"
   ]
  },
  {
   "cell_type": "code",
   "execution_count": 6,
   "metadata": {},
   "outputs": [],
   "source": [
    "Kp = 7.5e-8\n",
    "Ki = 2.23E-14\n",
    "\n",
    "#per_second_leak = 1000000000000000000000000000 # no leak\n",
    "per_second_leak = 999999711200000000000000000\n",
    "\n",
    "SIMULATION_TIMESTEPS = len(market_prices) - 1\n",
    "\n",
    "save_dir = \"../truffle/test/saved_sims/pi_second/raw/custom-config-sim.txt\"\n",
    "\n",
    "config_file = {\n",
    "  \"Kp\": str(int(Kp * 1e18)),\n",
    "  \"Ki\": str(int(Ki * 1e18)),\n",
    "  \"noise_barrier\": \"1000000000000000000\",\n",
    "  \"per_second_leak\": str(int(per_second_leak)),\n",
    "  \"oracle_initial_price\": str(events['marketPrice'].iloc[1]),\n",
    "  \"initial_redemption_price\": str(events['redemptionPrice'].iloc[1]),\n",
    "  \"delta_t\": [str(i) for i in delta_t],\n",
    "  \"market_prices\": [str(int(i*1e18)) for i in market_prices],\n",
    "  \"save_dir\": save_dir\n",
    "}\n",
    "\n",
    "with open('./cross-model/truffle/test/config/pi_second_raw.json', 'w') as fp:\n",
    "    json.dump(config_file, fp)\n",
    "    \n",
    "config_file = {\n",
    "  \"alpha\": per_second_leak,\n",
    "  \"kp\": Kp,\n",
    "  \"ki\": lambda control_period=0: Ki, # v1 model adjusts by control period, but solidity/prod doesn't do this\n",
    "  \"delta_t\": delta_t,\n",
    "  \"target_rate\": float(Decimal(events['redemptionRate'].iloc[0])/Decimal(1e27)),\n",
    "  \"target_price\": float(events['redemptionPrice'].iloc[0])/1e27,\n",
    "  \"market_price\": float(events['marketPrice'].iloc[0])/1e27,\n",
    "  \"market_prices\": market_prices,\n",
    "}"
   ]
  },
  {
   "cell_type": "code",
   "execution_count": 7,
   "metadata": {},
   "outputs": [
    {
     "name": "stdout",
     "output_type": "stream",
     "text": [
      "\n",
      "> geb-rrfm-truffle-sims@1.0.0 install-deps\n",
      "> npm install\n",
      "\n",
      "\u001b[K\u001b[?25hm#########\u001b[0m\u001b[100;90m⠂⠂⠂⠂⠂⠂⠂⠂⠂\u001b[0m⸩ ⠙ idealTree: \u001b[32;40mtiming\u001b[0m \u001b[35midealTree\u001b[0m Completed in 12ms\u001b[0m\u001b[K\n",
      "up to date, audited 3 packages in 601ms\n",
      "\n",
      "found \u001b[32m\u001b[1m0\u001b[22m\u001b[39m vulnerabilities\n",
      "\n",
      "> geb-rrfm-truffle-sims@1.0.0 pi-raw-second-imported-config\n",
      "> npx truffle test test/pi_raw_second_imported_config.js\n",
      "\n",
      "\n",
      "Compiling your contracts...\n",
      "===========================\n",
      "> Compiling ./cross-model/truffle/contracts/Migrations.sol\n",
      "> Compiling ./cross-model/truffle/contracts/calculator/math/SafeMath.sol\n",
      "> Compiling ./cross-model/truffle/contracts/calculator/math/SignedSafeMath.sol\n",
      "> Compiling ./cross-model/truffle/contracts/calculator/per-second/raw/PIRawPerSecondValidator.sol\n",
      "> Compiling ./cross-model/truffle/contracts/calculator/per-second/scaled/PIScaledPerSecondValidator.sol\n",
      "> Compiling ./cross-model/truffle/contracts/mock/AGUpdater.sol\n",
      "> Compiling ./cross-model/truffle/contracts/mock/MockOracleRelayer.sol\n",
      "> Compiling ./cross-model/truffle/contracts/mock/MockTreasury.sol\n",
      "> Compiling ./cross-model/truffle/contracts/mock/SeedProposerUpdater.sol\n",
      "> Compiling ./cross-model/truffle/contracts/oracle/MockFeed.sol\n",
      "> Compiling ./cross-model/truffle/contracts/setter/RateSetter.sol\n",
      "> Compiling ./cross-model/truffle/contracts/setter/RateSetterMath.sol\n",
      "> Compiling ./cross-model/truffle/contracts/token/Address.sol\n",
      "> Compiling ./cross-model/truffle/contracts/token/Context.sol\n",
      "> Compiling ./cross-model/truffle/contracts/token/ERC20.sol\n",
      "> Compiling ./cross-model/truffle/contracts/token/IERC20.sol\n",
      "> Compiling ./cross-model/truffle/contracts/token/OriginalSafeMath.sol\n",
      "> Compilation warnings encountered:\n",
      "\n",
      "    /Users/georgekellerman/github/geb-simulations/cross-model/truffle/contracts/mock/MockTreasury.sol:107:24: Warning: Unused function parameter. Remove or comment out the variable name to silence this warning.\n",
      "    function pullFunds(address dstAccount, address token, uint wad) external {\n",
      "                       ^----------------^\n",
      ",/Users/georgekellerman/github/geb-simulations/cross-model/truffle/contracts/mock/MockTreasury.sol:107:44: Warning: Unused function parameter. Remove or comment out the variable name to silence this warning.\n",
      "    function pullFunds(address dstAccount, address token, uint wad) external {\n",
      "                                           ^-----------^\n",
      ",/Users/georgekellerman/github/geb-simulations/cross-model/truffle/contracts/mock/MockTreasury.sol:107:59: Warning: Unused function parameter. Remove or comment out the variable name to silence this warning.\n",
      "    function pullFunds(address dstAccount, address token, uint wad) external {\n",
      "                                                          ^------^\n",
      ",/Users/georgekellerman/github/geb-simulations/cross-model/truffle/contracts/mock/MockTreasury.sol:107:5: Warning: Function state mutability can be restricted to pure\n",
      "    function pullFunds(address dstAccount, address token, uint wad) external {\n",
      "    ^ (Relevant source part starts here and spans across multiple lines).\n",
      "\n",
      "> Compiling ./cross-model/truffle/node_modules/.package-lock.json\n",
      "> Compiling ./cross-model/truffle/node_modules/decimal.js/package.json\n",
      "> Compiling ./cross-model/truffle/node_modules/shelljs.exec/.eslintrc.json\n",
      "> Compiling ./cross-model/truffle/node_modules/shelljs.exec/package.json\n",
      "> Compiling ./cross-model/truffle/package-lock.json\n",
      "> Compiling ./cross-model/truffle/package.json\n",
      "> Compiling ./cross-model/truffle/test/config/pi_second_raw.json\n",
      "> Artifacts written to /var/folders/z_/tzvx3mfs7rsbb8dxt0rd157w0000gn/T/test--77136-MeoZX6RbX2um\n",
      "> Compiled successfully using:\n",
      "   - solc: 0.6.7+commit.b8d736ae.Emscripten.clang\n",
      "\n",
      "\n",
      "> Duplicate contract names found for Setter.\n",
      "> This can cause errors and unknown behavior. Please rename one of your contracts.\n",
      "\n",
      "\u001b[0m\u001b[0m\n",
      "\u001b[0m  Contract: PIRawPerSecondCalculator Imported Config\u001b[0m\n",
      "  \u001b[32m  ✓\u001b[0m\u001b[90m should check that the deployment was successful\u001b[0m\u001b[33m (59ms)\u001b[0m\n",
      "  \u001b[32m  ✓\u001b[0m\u001b[90m simulate the raw per-second PI controller using the custom JSON config\u001b[0m\u001b[31m (14011ms)\u001b[0m\n",
      "\n",
      "\n",
      "\u001b[92m \u001b[0m\u001b[32m 2 passing\u001b[0m\u001b[90m (18s)\u001b[0m\n",
      "\n"
     ]
    }
   ],
   "source": [
    "# Compile, test, and deploy contracts to Ganache\n",
    "# !npm run pi-raw-second-imported-config --prefix './cross-model/truffle'\n",
    "\n",
    "os.chdir('./cross-model/truffle')\n",
    "!npm run install-deps\n",
    "!npm run pi-raw-second-imported-config\n",
    "os.chdir('../../')"
   ]
  },
  {
   "cell_type": "markdown",
   "metadata": {},
   "source": [
    "[redemptionRate](https://github.com/reflexer-labs/geb-rrfm-truffle-sims/blob/master/contracts/mock/MockOracleRelayer.sol#L14) = $1+d_t$ (units: per second)  \n",
    "$p_{t+\\Delta{t}} = p_{t} (1+d_t)^{\\Delta{t}}$ where $\\Delta{t}$ is measured in seconds  \n",
    "Meaning:\n",
    "* $d_t > 0$ implies $redemptionRate > 1$  \n",
    "* $d_t < 0$ implies $redemptionRate < 1$  \n",
    "\n",
    "\n",
    "In the results dataset this is the PerSecondRedemptionRate column"
   ]
  },
  {
   "cell_type": "code",
   "execution_count": 8,
   "metadata": {},
   "outputs": [],
   "source": [
    "from models.system_model_v1.model.state_variables.init import state_variables\n",
    "\n",
    "def pre_process_initial_conditions(genesis_dict):\n",
    "    base_genesis_states = genesis_dict.copy()\n",
    "    for k in base_genesis_states.keys():\n",
    "        if k in config_file:\n",
    "            try:\n",
    "                base_genesis_states[k] = config_file[k][0]\n",
    "            except:\n",
    "                base_genesis_states[k] = config_file[k]\n",
    "    return base_genesis_states\n",
    "\n",
    "test_specific_initial_conditions = pre_process_initial_conditions(state_variables)"
   ]
  },
  {
   "cell_type": "code",
   "execution_count": 9,
   "metadata": {},
   "outputs": [],
   "source": [
    "from models.system_model_v1.model.params.init import params\n",
    "\n",
    "\n",
    "def pre_process_params_dict(params_dict):\n",
    "    base_params_dict = params_dict.copy()\n",
    "    for k in config_file.keys():\n",
    "        if type(config_file[k]) == list:\n",
    "            base_params_dict[k] = [config_file[k]]\n",
    "        else:\n",
    "            try:\n",
    "                base_params_dict[k] = [config_file[k]]\n",
    "            except OverflowError:\n",
    "                print(config_file[k])\n",
    "                raise\n",
    "    return base_params_dict\n",
    "\n",
    "test_specific_params = pre_process_params_dict(params)"
   ]
  },
  {
   "cell_type": "code",
   "execution_count": 10,
   "metadata": {},
   "outputs": [],
   "source": [
    "def test_specific_resolve_time_passed(params, substep, state_history, state):\n",
    "    index = state['timestep']+1\n",
    "    value = params['delta_t'][index]\n",
    "    return {'seconds_passed': value}\n",
    "\n",
    "def test_specific_update_market_price(params, substep, state_history, state, policy_input):\n",
    "    key = 'market_price'  \n",
    "    index = state['timestep']\n",
    "    value = params['market_prices'][index]\n",
    "    return key, value\n",
    "\n",
    "\n",
    "from models.system_model_v1.model.parts.markets import resolve_time_passed, update_market_price\n",
    "from models.system_model_v1.model.partial_state_update_blocks import partial_state_update_blocks\n",
    "\n",
    "for psub in partial_state_update_blocks:\n",
    "    for psub_part in psub.values():\n",
    "        if type(psub_part)==dict:\n",
    "            for k,v in psub_part.items():\n",
    "                if v == resolve_time_passed:\n",
    "                    psub_part[k] = test_specific_resolve_time_passed\n",
    "                if v == update_market_price:\n",
    "                    psub_part[k] = test_specific_update_market_price"
   ]
  },
  {
   "cell_type": "code",
   "execution_count": 11,
   "metadata": {},
   "outputs": [
    {
     "name": "stdout",
     "output_type": "stream",
     "text": [
      "\n",
      "                  ___________    ____\n",
      "  ________ __ ___/ / ____/   |  / __ \\\n",
      " / ___/ __` / __  / /   / /| | / / / /\n",
      "/ /__/ /_/ / /_/ / /___/ ___ |/ /_/ /\n",
      "\\___/\\__,_/\\__,_/\\____/_/  |_/_____/\n",
      "by cadCAD\n",
      "\n",
      "Execution Mode: local_proc\n",
      "Configuration Count: 1\n",
      "Dimensions of the first simulation: (Timesteps, Params, Runs, Vars) = (36, 27, 1, 15)\n"
     ]
    },
    {
     "data": {
      "application/vnd.jupyter.widget-view+json": {
       "model_id": "9c93a18b443646829dbc5d8a2f40cc2e",
       "version_major": 2,
       "version_minor": 0
      },
      "text/plain": [
       "HBox(children=(HTML(value='Initializing configurations'), FloatProgress(value=0.0, max=1.0), HTML(value='')))"
      ]
     },
     "metadata": {},
     "output_type": "display_data"
    },
    {
     "name": "stdout",
     "output_type": "stream",
     "text": [
      "\n",
      "Execution Method: local_simulations\n",
      "SimIDs   : [0]\n",
      "SubsetIDs: [0]\n",
      "Ns       : [0]\n",
      "ExpIDs   : [0]\n",
      "Execution Mode: single_threaded\n"
     ]
    },
    {
     "data": {
      "application/vnd.jupyter.widget-view+json": {
       "model_id": "91a96352422d4f62a814ecff118b5870",
       "version_major": 2,
       "version_minor": 0
      },
      "text/plain": [
       "HBox(children=(HTML(value='Flattening results'), FloatProgress(value=0.0, max=217.0), HTML(value='')))"
      ]
     },
     "metadata": {},
     "output_type": "display_data"
    },
    {
     "name": "stdout",
     "output_type": "stream",
     "text": [
      "\n",
      "Total execution time: 0.11s\n"
     ]
    }
   ],
   "source": [
    "from cadCAD.configuration.utils import config_sim\n",
    "from cadCAD.configuration import Experiment\n",
    "from cadCAD import configs\n",
    "\n",
    "del configs[:]\n",
    "\n",
    "exp = Experiment()\n",
    "\n",
    "sim_config_dict = {\n",
    "    'T': range(SIMULATION_TIMESTEPS),\n",
    "    'N': 1,\n",
    "    'M': test_specific_params\n",
    "}\n",
    "c = config_sim(sim_config_dict)\n",
    "\n",
    "exp.append_configs(\n",
    "    initial_state=test_specific_initial_conditions, #dict containing variable names and initial values\n",
    "    partial_state_update_blocks=partial_state_update_blocks, #dict containing state update functions\n",
    "    sim_configs=c #preprocessed dictionaries containing simulation parameters\n",
    ")\n",
    "\n",
    "from cadCAD.engine import ExecutionMode, ExecutionContext, Executor\n",
    "exec_mode = ExecutionMode()\n",
    "local_mode_ctx = ExecutionContext(exec_mode.local_mode)\n",
    "executor = Executor(local_mode_ctx, configs) # Pass the configuration object inside an array\n",
    "raw_result, tensor, sessions = executor.execute() # The `execute()` method returns a tuple; its first elements contains the raw results"
   ]
  },
  {
   "cell_type": "code",
   "execution_count": 12,
   "metadata": {},
   "outputs": [],
   "source": [
    "full = pd.DataFrame(raw_result)"
   ]
  },
  {
   "cell_type": "code",
   "execution_count": 13,
   "metadata": {},
   "outputs": [],
   "source": [
    "max_substep = max(full.substep)\n",
    "df = full.copy()\n",
    "df = df[(df.substep==max_substep) | (df.substep==0)]"
   ]
  },
  {
   "cell_type": "code",
   "execution_count": 14,
   "metadata": {},
   "outputs": [],
   "source": [
    "save_dir = \"./cross-model/truffle/test/saved_sims/pi_second/raw/custom-config-sim.txt\"\n",
    "data = pd.read_csv(save_dir, sep=\" \", header=None, skiprows=1)\n",
    "data.columns = [x.replace(' ','') for x in pd.read_csv(save_dir, sep=\"|\", nrows=1).columns]\n",
    "\n",
    "#for c in data.columns:\n",
    "#    data[c]=data[c].apply(float)\n",
    "    \n",
    "#define normalizing constants\n",
    "WAD = 10**18\n",
    "RAY = 10**27\n",
    "RAD = 10**45\n",
    "\n",
    "#normalize data to \"USD\" dimension\n",
    "data['MarketPrice(USD)'] = data['MarketPrice(WAD)']/WAD\n",
    "data['RedemptionPrice(USD)'] = data['RedemptionPrice(RAY)'].apply(lambda x: float(x))/RAY\n",
    "data['PerSecondRedemptionRate(float)'] = data['PerSecondRedemptionRate(RAY)'].apply(lambda x: float(x))/RAY - 1\n",
    "data['PerSecondRedemptionRate(dec)'] = data['PerSecondRedemptionRate(RAY)'].apply(lambda x: Decimal(x)/Decimal(1e27)) - 1\n",
    "data['time'] = data['DelaySinceLastUpdate'].cumsum()\n",
    "\n",
    "data['timestamp'] = state_variables['timestamp'] + data['time'].apply(lambda x: dt.timedelta(seconds=x))"
   ]
  },
  {
   "cell_type": "code",
   "execution_count": 15,
   "metadata": {},
   "outputs": [
    {
     "name": "stdout",
     "output_type": "stream",
     "text": [
      "<class 'pandas.core.frame.DataFrame'>\n",
      "RangeIndex: 37 entries, 0 to 36\n",
      "Data columns (total 16 columns):\n",
      " #   Column                           Non-Null Count  Dtype         \n",
      "---  ------                           --------------  -----         \n",
      " 0   MarketPrice(WAD)                 37 non-null     int64         \n",
      " 1   RedemptionPrice(RAY)             37 non-null     object        \n",
      " 2   RedemptionRate(%)                37 non-null     int64         \n",
      " 3   PerSecondRedemptionRate(RAY)     37 non-null     object        \n",
      " 4   RedemptionRateTimeline(Seconds)  37 non-null     int64         \n",
      " 5   Proportional(NoGain)             37 non-null     object        \n",
      " 6   Proportional(WithGain)           37 non-null     object        \n",
      " 7   Integral(NoGain)                 37 non-null     object        \n",
      " 8   Integral(WithGain)               37 non-null     int64         \n",
      " 9   DelaySinceLastUpdate             37 non-null     float64       \n",
      " 10  MarketPrice(USD)                 37 non-null     float64       \n",
      " 11  RedemptionPrice(USD)             37 non-null     object        \n",
      " 12  PerSecondRedemptionRate(float)   37 non-null     object        \n",
      " 13  PerSecondRedemptionRate(dec)     37 non-null     object        \n",
      " 14  time                             37 non-null     float64       \n",
      " 15  timestamp                        37 non-null     datetime64[ns]\n",
      "dtypes: datetime64[ns](1), float64(3), int64(4), object(8)\n",
      "memory usage: 4.8+ KB\n"
     ]
    }
   ],
   "source": [
    "data.info()"
   ]
  },
  {
   "cell_type": "code",
   "execution_count": 16,
   "metadata": {},
   "outputs": [],
   "source": [
    "#df[['target_price', 'market_price']] = df[['target_price', 'market_price']].shift()"
   ]
  },
  {
   "cell_type": "code",
   "execution_count": 17,
   "metadata": {},
   "outputs": [],
   "source": [
    "combined = df.merge(data, how='inner', on=['timestamp'])"
   ]
  },
  {
   "cell_type": "code",
   "execution_count": 18,
   "metadata": {},
   "outputs": [],
   "source": [
    "events['timestamp'] = pd.to_datetime(events['ts'], unit='s')"
   ]
  },
  {
   "cell_type": "code",
   "execution_count": 19,
   "metadata": {},
   "outputs": [
    {
     "data": {
      "text/html": [
       "<div>\n",
       "<style scoped>\n",
       "    .dataframe tbody tr th:only-of-type {\n",
       "        vertical-align: middle;\n",
       "    }\n",
       "\n",
       "    .dataframe tbody tr th {\n",
       "        vertical-align: top;\n",
       "    }\n",
       "\n",
       "    .dataframe thead th {\n",
       "        text-align: right;\n",
       "    }\n",
       "</style>\n",
       "<table border=\"1\" class=\"dataframe\">\n",
       "  <thead>\n",
       "    <tr style=\"text-align: right;\">\n",
       "      <th></th>\n",
       "      <th>timestamp</th>\n",
       "      <th>marketPrice</th>\n",
       "      <th>redemptionPrice</th>\n",
       "      <th>redemptionRate</th>\n",
       "      <th>blockNumber</th>\n",
       "      <th>ts_delta</th>\n",
       "    </tr>\n",
       "  </thead>\n",
       "  <tbody>\n",
       "    <tr>\n",
       "      <th>0</th>\n",
       "      <td>2022-02-08 20:10:52</td>\n",
       "      <td>5158634825269270578000000000</td>\n",
       "      <td>3069049498519715117488353819</td>\n",
       "      <td>999999998955207336625222270</td>\n",
       "      <td>29727211</td>\n",
       "      <td>NaN</td>\n",
       "    </tr>\n",
       "    <tr>\n",
       "      <th>1</th>\n",
       "      <td>2022-02-09 02:25:52</td>\n",
       "      <td>5119936915872816092000000000</td>\n",
       "      <td>3068977352658686529626576365</td>\n",
       "      <td>999999846178032758940282822</td>\n",
       "      <td>29732208</td>\n",
       "      <td>22500.0</td>\n",
       "    </tr>\n",
       "    <tr>\n",
       "      <th>2</th>\n",
       "      <td>2022-02-09 08:40:52</td>\n",
       "      <td>5102952610086358532000000000</td>\n",
       "      <td>3058373998490887100392595607</td>\n",
       "      <td>999999845629135990734283981</td>\n",
       "      <td>29737038</td>\n",
       "      <td>22500.0</td>\n",
       "    </tr>\n",
       "  </tbody>\n",
       "</table>\n",
       "</div>"
      ],
      "text/plain": [
       "            timestamp                   marketPrice  \\\n",
       "0 2022-02-08 20:10:52  5158634825269270578000000000   \n",
       "1 2022-02-09 02:25:52  5119936915872816092000000000   \n",
       "2 2022-02-09 08:40:52  5102952610086358532000000000   \n",
       "\n",
       "                redemptionPrice               redemptionRate  blockNumber  \\\n",
       "0  3069049498519715117488353819  999999998955207336625222270     29727211   \n",
       "1  3068977352658686529626576365  999999846178032758940282822     29732208   \n",
       "2  3058373998490887100392595607  999999845629135990734283981     29737038   \n",
       "\n",
       "   ts_delta  \n",
       "0       NaN  \n",
       "1   22500.0  \n",
       "2   22500.0  "
      ]
     },
     "execution_count": 19,
     "metadata": {},
     "output_type": "execute_result"
    }
   ],
   "source": [
    "events[['timestamp', 'marketPrice', 'redemptionPrice', 'redemptionRate', 'blockNumber', 'ts_delta']].head(3)"
   ]
  },
  {
   "cell_type": "code",
   "execution_count": 20,
   "metadata": {},
   "outputs": [
    {
     "data": {
      "text/html": [
       "<div>\n",
       "<style scoped>\n",
       "    .dataframe tbody tr th:only-of-type {\n",
       "        vertical-align: middle;\n",
       "    }\n",
       "\n",
       "    .dataframe tbody tr th {\n",
       "        vertical-align: top;\n",
       "    }\n",
       "\n",
       "    .dataframe thead th {\n",
       "        text-align: right;\n",
       "    }\n",
       "</style>\n",
       "<table border=\"1\" class=\"dataframe\">\n",
       "  <thead>\n",
       "    <tr style=\"text-align: right;\">\n",
       "      <th></th>\n",
       "      <th>MarketPrice(WAD)</th>\n",
       "      <th>RedemptionPrice(RAY)</th>\n",
       "      <th>PerSecondRedemptionRate(RAY)</th>\n",
       "    </tr>\n",
       "  </thead>\n",
       "  <tbody>\n",
       "    <tr>\n",
       "      <th>0</th>\n",
       "      <td>5119936915872816128</td>\n",
       "      <td>3068977352658686529626576365</td>\n",
       "      <td>999999846178032758940280122</td>\n",
       "    </tr>\n",
       "    <tr>\n",
       "      <th>1</th>\n",
       "      <td>5102952610086358016</td>\n",
       "      <td>3058373998490887100206800723</td>\n",
       "      <td>999999845629135990734322788</td>\n",
       "    </tr>\n",
       "    <tr>\n",
       "      <th>2</th>\n",
       "      <td>5160239309718213632</td>\n",
       "      <td>3047769163934361049993803401</td>\n",
       "      <td>999999839500980558759762286</td>\n",
       "    </tr>\n",
       "  </tbody>\n",
       "</table>\n",
       "</div>"
      ],
      "text/plain": [
       "      MarketPrice(WAD)          RedemptionPrice(RAY)  \\\n",
       "0  5119936915872816128  3068977352658686529626576365   \n",
       "1  5102952610086358016  3058373998490887100206800723   \n",
       "2  5160239309718213632  3047769163934361049993803401   \n",
       "\n",
       "  PerSecondRedemptionRate(RAY)  \n",
       "0  999999846178032758940280122  \n",
       "1  999999845629135990734322788  \n",
       "2  999999839500980558759762286  "
      ]
     },
     "execution_count": 20,
     "metadata": {},
     "output_type": "execute_result"
    }
   ],
   "source": [
    "data[['MarketPrice(WAD)' ,'RedemptionPrice(RAY)', 'PerSecondRedemptionRate(RAY)']].head(3)"
   ]
  },
  {
   "cell_type": "code",
   "execution_count": 21,
   "metadata": {},
   "outputs": [
    {
     "data": {
      "text/html": [
       "<div>\n",
       "<style scoped>\n",
       "    .dataframe tbody tr th:only-of-type {\n",
       "        vertical-align: middle;\n",
       "    }\n",
       "\n",
       "    .dataframe tbody tr th {\n",
       "        vertical-align: top;\n",
       "    }\n",
       "\n",
       "    .dataframe thead th {\n",
       "        text-align: right;\n",
       "    }\n",
       "</style>\n",
       "<table border=\"1\" class=\"dataframe\">\n",
       "  <thead>\n",
       "    <tr style=\"text-align: right;\">\n",
       "      <th></th>\n",
       "      <th>timestamp</th>\n",
       "      <th>target_price</th>\n",
       "    </tr>\n",
       "  </thead>\n",
       "  <tbody>\n",
       "    <tr>\n",
       "      <th>0</th>\n",
       "      <td>2018-12-18 00:00:00</td>\n",
       "      <td>3.069049</td>\n",
       "    </tr>\n",
       "    <tr>\n",
       "      <th>6</th>\n",
       "      <td>2018-12-18 06:15:00</td>\n",
       "      <td>3.058210</td>\n",
       "    </tr>\n",
       "    <tr>\n",
       "      <th>12</th>\n",
       "      <td>2018-12-18 12:30:00</td>\n",
       "      <td>3.047482</td>\n",
       "    </tr>\n",
       "  </tbody>\n",
       "</table>\n",
       "</div>"
      ],
      "text/plain": [
       "             timestamp  target_price\n",
       "0  2018-12-18 00:00:00      3.069049\n",
       "6  2018-12-18 06:15:00      3.058210\n",
       "12 2018-12-18 12:30:00      3.047482"
      ]
     },
     "execution_count": 21,
     "metadata": {},
     "output_type": "execute_result"
    }
   ],
   "source": [
    "df[['timestamp', 'target_price']].head(3)"
   ]
  },
  {
   "cell_type": "code",
   "execution_count": 22,
   "metadata": {},
   "outputs": [
    {
     "data": {
      "image/png": "[encoded data removed]",
      "text/plain": [
       "<Figure size 1080x720 with 6 Axes>"
      ]
     },
     "metadata": {
      "needs_background": "light"
     },
     "output_type": "display_data"
    }
   ],
   "source": [
    "import matplotlib.pyplot as plt\n",
    "\n",
    "fig, axs = plt.subplots(3, 2, figsize=(15,10))\n",
    "\n",
    "i = 0\n",
    "axs.flat[i].plot(combined['timestamp'], combined['market_price'], label='Market')\n",
    "axs.flat[i].plot(combined['timestamp'], combined['target_price'], label='Target')\n",
    "axs.flat[i].set_ylabel('Python')\n",
    "axs.flat[i].set_title('Market and Target Price')\n",
    "axs.flat[i].legend()\n",
    "\n",
    "i += 1 \n",
    "axs.flat[i].plot(combined['timestamp'], combined['target_rate'])\n",
    "axs.flat[i].set_title('Redemption Rate')\n",
    "\n",
    "i += 1 \n",
    "axs.flat[i].plot(combined['timestamp'], combined['MarketPrice(USD)'], label='Market')\n",
    "axs.flat[i].plot(combined['timestamp'], combined['RedemptionPrice(USD)'], label='Target')\n",
    "axs.flat[i].set_title('Market and Target Price')\n",
    "axs.flat[i].legend()\n",
    "axs.flat[i].set_ylabel('Solidity')\n",
    "\n",
    "i += 1 \n",
    "axs.flat[i].plot(combined['timestamp'], combined['PerSecondRedemptionRate(dec)'])\n",
    "axs.flat[i].set_title('Redemption Rate')\n",
    "\n",
    "i += 1\n",
    "axs.flat[i].plot(events['ts'].iloc[1:], events['marketPrice'].iloc[1:].apply(lambda x: float(x)/1E27), label='Market')\n",
    "\n",
    "axs.flat[i].plot(events['ts'].iloc[1:], events['redemptionPriceDec'].iloc[1:])\n",
    "axs.flat[i].set_ylabel('Kovan')\n",
    "axs.flat[i].set_title('Market and Target Price')\n",
    "axs.flat[i].legend()\n",
    "\n",
    "i += 1 \n",
    "\n",
    "axs.flat[i].plot(events['ts'].iloc[1:], events['redemptionRateDec'].iloc[1:])\n",
    "axs.flat[i].set_title('Redemption Rate')\n",
    "\n",
    "fig.tight_layout()\n",
    "plt.show()\n",
    "fig.savefig('plots/solidity-cadcad/solidity-cadcad-market.png')"
   ]
  },
  {
   "cell_type": "markdown",
   "metadata": {},
   "source": [
    "## Solidity-Python Error "
   ]
  },
  {
   "cell_type": "code",
   "execution_count": 23,
   "metadata": {},
   "outputs": [
    {
     "data": {
      "text/plain": [
       "<AxesSubplot:>"
      ]
     },
     "execution_count": 23,
     "metadata": {},
     "output_type": "execute_result"
    },
    {
     "data": {
      "image/png": "[encoded data removed]",
      "text/plain": [
       "<Figure size 432x288 with 1 Axes>"
      ]
     },
     "metadata": {
      "needs_background": "light"
     },
     "output_type": "display_data"
    }
   ],
   "source": [
    "combined['market_price_error'] = combined['market_price'] - combined['MarketPrice(USD)']\n",
    "combined['market_price_error'].plot(legend=True)\n",
    "combined['market_price_cumulative_error'] = combined['market_price_error'].cumsum()\n",
    "combined['market_price_cumulative_error'].plot(legend=True)"
   ]
  },
  {
   "cell_type": "code",
   "execution_count": 24,
   "metadata": {},
   "outputs": [
    {
     "data": {
      "image/png": "[encoded data removed]",
      "text/plain": [
       "<Figure size 432x288 with 1 Axes>"
      ]
     },
     "metadata": {
      "needs_background": "light"
     },
     "output_type": "display_data"
    }
   ],
   "source": [
    "combined['target_price_error'] = combined['target_price'] - combined['RedemptionPrice(USD)']\n",
    "combined['target_price_error'].plot(legend=True)\n",
    "combined['target_price_cumulative_error'] = combined['target_price_error'].cumsum()\n",
    "combined['target_price_cumulative_error'].plot(legend=True)\n",
    "plt.savefig('plots/solidity-cadcad/solidity-cadcad-error.png')"
   ]
  },
  {
   "cell_type": "code",
   "execution_count": 25,
   "metadata": {},
   "outputs": [
    {
     "name": "stdout",
     "output_type": "stream",
     "text": [
      "\n",
      "Max error: -0.010766875574300894\n",
      "Std. error: 0.0018847603245201528\n",
      "Mean error: -0.013726906535381864\n",
      "Abs. mean error: 0.013726906535381864\n",
      "\n"
     ]
    }
   ],
   "source": [
    "print(f'''\n",
    "Max error: {combined['target_price_error'].max()}\n",
    "Std. error: {combined['target_price_error'].std()}\n",
    "Mean error: {combined['target_price_error'].mean()}\n",
    "Abs. mean error: {combined['target_price_error'].abs().mean()}\n",
    "''')"
   ]
  },
  {
   "cell_type": "code",
   "execution_count": 26,
   "metadata": {},
   "outputs": [
    {
     "data": {
      "text/plain": [
       "count     36.000000\n",
       "unique    36.000000\n",
       "top       -0.494169\n",
       "freq       1.000000\n",
       "Name: target_price_cumulative_error, dtype: float64"
      ]
     },
     "execution_count": 26,
     "metadata": {},
     "output_type": "execute_result"
    }
   ],
   "source": [
    "combined['target_price_cumulative_error'].describe()"
   ]
  },
  {
   "cell_type": "markdown",
   "metadata": {},
   "source": [
    "## Solidity-Kovan Error"
   ]
  },
  {
   "cell_type": "code",
   "execution_count": 27,
   "metadata": {},
   "outputs": [
    {
     "data": {
      "text/plain": [
       "<AxesSubplot:>"
      ]
     },
     "execution_count": 27,
     "metadata": {},
     "output_type": "execute_result"
    },
    {
     "data": {
      "image/png": "[encoded data removed]",
      "text/plain": [
       "<Figure size 432x288 with 1 Axes>"
      ]
     },
     "metadata": {
      "needs_background": "light"
     },
     "output_type": "display_data"
    }
   ],
   "source": [
    "(events['marketPrice'].iloc[1:].apply(lambda x: float(x)/1E27).reset_index(drop=True) - combined['MarketPrice(USD)']).plot(legend=True, label='market price error')\n",
    "(events['marketPrice'].iloc[1:].apply(lambda x: float(x)/1E27).reset_index(drop=True)- combined['MarketPrice(USD)']).cumsum().plot(legend=True, label='market price cumulative error')"
   ]
  },
  {
   "cell_type": "code",
   "execution_count": 31,
   "metadata": {},
   "outputs": [
    {
     "data": {
      "text/plain": [
       "<AxesSubplot:>"
      ]
     },
     "execution_count": 31,
     "metadata": {},
     "output_type": "execute_result"
    },
    {
     "data": {
      "image/png": "[encoded data removed]",
      "text/plain": [
       "<Figure size 432x288 with 1 Axes>"
      ]
     },
     "metadata": {
      "needs_background": "light"
     },
     "output_type": "display_data"
    }
   ],
   "source": [
    "(events['redemptionPrice'].apply(lambda x: int(x)).iloc[1:].reset_index(drop=True) - \\\n",
    "  combined['RedemptionPrice(RAY)'].apply(lambda x: int(x)).iloc[0:])\\\n",
    "  .apply(lambda x:float(x)/1e27)\\\n",
    "  .plot(legend=True, label='redemption price error')"
   ]
  },
  {
   "cell_type": "markdown",
   "metadata": {},
   "source": [
    "The above redemption price error when comparing to kovan is due to intermediate redemption price updates on Kovan.  This data is dervied from UpdateRedemptionRate events only, so does not conside these intermediate updates.  The Redemption price is necessarily rounded as it's a RAY created from a RAD rate. So these intermediate price updates onchain produce very neglible differences from redemption prices created only from UpdateRedemptionRate events."
   ]
  },
  {
   "cell_type": "code",
   "execution_count": 32,
   "metadata": {},
   "outputs": [
    {
     "data": {
      "text/plain": [
       "<AxesSubplot:>"
      ]
     },
     "execution_count": 32,
     "metadata": {},
     "output_type": "execute_result"
    },
    {
     "data": {
      "image/png": "[encoded data removed]",
      "text/plain": [
       "<Figure size 432x288 with 1 Axes>"
      ]
     },
     "metadata": {
      "needs_background": "light"
     },
     "output_type": "display_data"
    }
   ],
   "source": [
    "\n",
    "(events['redemptionPrice'].apply(lambda x: int(x)).iloc[1:].reset_index(drop=True) - \\\n",
    " combined['RedemptionPrice(RAY)'].apply(lambda x: int(x)))\\\n",
    "  .apply(lambda x:float(x)/1e27) \\\n",
    "  .cumsum() \\\n",
    "  .plot(legend=True, label='redemption price cumulative error')"
   ]
  }
 ],
 "metadata": {
  "kernelspec": {
   "display_name": "Python (Reflexer)",
   "language": "python",
   "name": "python-reflexer"
  },
  "language_info": {
   "codemirror_mode": {
    "name": "ipython",
    "version": 3
   },
   "file_extension": ".py",
   "mimetype": "text/x-python",
   "name": "python",
   "nbconvert_exporter": "python",
   "pygments_lexer": "ipython3",
   "version": "3.8.5"
  }
 },
 "nbformat": 4,
 "nbformat_minor": 4
}
