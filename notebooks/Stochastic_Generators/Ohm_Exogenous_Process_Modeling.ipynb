{
 "cells": [
  {
   "cell_type": "markdown",
   "metadata": {},
   "source": [
    "# Exogenous Process modeling \n",
    "\n",
    "## OHM price stochastic process\n",
    "\n",
    "1. Acquire hourly OHM/DAI data from Sushiswap.\n",
    "\n",
    "'https://api.thegraph.com/subgraphs/name/sushiswap/exchange'\n",
    "\n",
    "\"\"\"\n",
    "query {\n",
    "    pair(id: \"0x34d7d7aaf50ad4944b70b320acb24c95fa2def7c\") {\n",
    "    hourData(first: 1000, skip:{}) {\n",
    "      date\n",
    "      reserve0\n",
    "      reserve1\n",
    "    }\n",
    "  }\n",
    " }\n",
    "\"\"\"\n",
    "\n",
    "2. Fit a parametric distribution to the price of OHM, gamma + Kalman fit (prediction) resulting in a distribution $F^p_{OHM}(t; \\mu_{OHM})$ and fitted parameters $\\mu_{OHM}$.\n"
   ]
  },
  {
   "cell_type": "code",
   "execution_count": 1,
   "metadata": {},
   "outputs": [],
   "source": [
    "# import libraries\n",
    "import pandas as pd\n",
    "import numpy as np\n",
    "from scipy.stats import gamma\n",
    "from sklearn.metrics import mean_squared_error\n",
    "import matplotlib.pyplot as plt\n",
    "from math import sqrt\n",
    "\n",
    "%matplotlib inline"
   ]
  },
  {
   "cell_type": "markdown",
   "metadata": {},
   "source": [
    "## Data preprocessing"
   ]
  },
  {
   "cell_type": "code",
   "execution_count": 2,
   "metadata": {},
   "outputs": [
    {
     "data": {
      "text/html": [
       "<div>\n",
       "<style scoped>\n",
       "    .dataframe tbody tr th:only-of-type {\n",
       "        vertical-align: middle;\n",
       "    }\n",
       "\n",
       "    .dataframe tbody tr th {\n",
       "        vertical-align: top;\n",
       "    }\n",
       "\n",
       "    .dataframe thead th {\n",
       "        text-align: right;\n",
       "    }\n",
       "</style>\n",
       "<table border=\"1\" class=\"dataframe\">\n",
       "  <thead>\n",
       "    <tr style=\"text-align: right;\">\n",
       "      <th></th>\n",
       "      <th>Unnamed: 0</th>\n",
       "      <th>date</th>\n",
       "      <th>reserve0</th>\n",
       "      <th>reserve1</th>\n",
       "      <th>price</th>\n",
       "    </tr>\n",
       "  </thead>\n",
       "  <tbody>\n",
       "    <tr>\n",
       "      <th>0</th>\n",
       "      <td>0</td>\n",
       "      <td>1616461200</td>\n",
       "      <td>2356.125551</td>\n",
       "      <td>5.809582e+05</td>\n",
       "      <td>246.573550</td>\n",
       "    </tr>\n",
       "    <tr>\n",
       "      <th>1</th>\n",
       "      <td>1</td>\n",
       "      <td>1616464800</td>\n",
       "      <td>2080.455537</td>\n",
       "      <td>9.678865e+05</td>\n",
       "      <td>465.228148</td>\n",
       "    </tr>\n",
       "    <tr>\n",
       "      <th>2</th>\n",
       "      <td>2</td>\n",
       "      <td>1616468400</td>\n",
       "      <td>2519.150524</td>\n",
       "      <td>1.003628e+06</td>\n",
       "      <td>398.399355</td>\n",
       "    </tr>\n",
       "    <tr>\n",
       "      <th>3</th>\n",
       "      <td>3</td>\n",
       "      <td>1616472000</td>\n",
       "      <td>2687.683376</td>\n",
       "      <td>9.425800e+05</td>\n",
       "      <td>350.703515</td>\n",
       "    </tr>\n",
       "    <tr>\n",
       "      <th>4</th>\n",
       "      <td>4</td>\n",
       "      <td>1616475600</td>\n",
       "      <td>2798.322299</td>\n",
       "      <td>9.060020e+05</td>\n",
       "      <td>323.766145</td>\n",
       "    </tr>\n",
       "  </tbody>\n",
       "</table>\n",
       "</div>"
      ],
      "text/plain": [
       "   Unnamed: 0        date     reserve0      reserve1       price\n",
       "0           0  1616461200  2356.125551  5.809582e+05  246.573550\n",
       "1           1  1616464800  2080.455537  9.678865e+05  465.228148\n",
       "2           2  1616468400  2519.150524  1.003628e+06  398.399355\n",
       "3           3  1616472000  2687.683376  9.425800e+05  350.703515\n",
       "4           4  1616475600  2798.322299  9.060020e+05  323.766145"
      ]
     },
     "execution_count": 2,
     "metadata": {},
     "output_type": "execute_result"
    }
   ],
   "source": [
    "# import data\n",
    "historical_ohm_hourly = pd.read_csv('data/sushi_ohm_hourly.csv')\n",
    "historical_ohm_hourly['price'] = historical_ohm_hourly['reserve1'] / historical_ohm_hourly['reserve0']\n",
    "historical_ohm_hourly.head(5)"
   ]
  },
  {
   "cell_type": "code",
   "execution_count": 4,
   "metadata": {},
   "outputs": [],
   "source": [
    "historical_ohm_hourly['Date'] = pd.to_datetime(historical_ohm_hourly['date'], unit='s')\n",
    "#historical_ohm_hourly = historical_eth_hourly[historical_eth_hourly['Date']>'2017-01-01']"
   ]
  },
  {
   "cell_type": "code",
   "execution_count": 5,
   "metadata": {},
   "outputs": [],
   "source": [
    "# sort by date from earliest to latest\n",
    "sorted_historical_ohm_hourly = historical_ohm_hourly.sort_values(by='Date')"
   ]
  },
  {
   "cell_type": "code",
   "execution_count": 6,
   "metadata": {},
   "outputs": [],
   "source": [
    "# split into training and test data. \n",
    "train, test= np.split(sorted_historical_ohm_hourly, [int(.9 *len(sorted_historical_ohm_hourly))])"
   ]
  },
  {
   "cell_type": "code",
   "execution_count": 7,
   "metadata": {},
   "outputs": [
    {
     "data": {
      "text/html": [
       "<div>\n",
       "<style scoped>\n",
       "    .dataframe tbody tr th:only-of-type {\n",
       "        vertical-align: middle;\n",
       "    }\n",
       "\n",
       "    .dataframe tbody tr th {\n",
       "        vertical-align: top;\n",
       "    }\n",
       "\n",
       "    .dataframe thead th {\n",
       "        text-align: right;\n",
       "    }\n",
       "</style>\n",
       "<table border=\"1\" class=\"dataframe\">\n",
       "  <thead>\n",
       "    <tr style=\"text-align: right;\">\n",
       "      <th></th>\n",
       "      <th>Unnamed: 0</th>\n",
       "      <th>date</th>\n",
       "      <th>reserve0</th>\n",
       "      <th>reserve1</th>\n",
       "      <th>price</th>\n",
       "      <th>Date</th>\n",
       "    </tr>\n",
       "  </thead>\n",
       "  <tbody>\n",
       "    <tr>\n",
       "      <th>5013</th>\n",
       "      <td>5013</td>\n",
       "      <td>1634547600</td>\n",
       "      <td>139696.849769</td>\n",
       "      <td>1.133346e+08</td>\n",
       "      <td>811.289710</td>\n",
       "      <td>2021-10-18 09:00:00</td>\n",
       "    </tr>\n",
       "    <tr>\n",
       "      <th>5014</th>\n",
       "      <td>5014</td>\n",
       "      <td>1634551200</td>\n",
       "      <td>140120.033444</td>\n",
       "      <td>1.129962e+08</td>\n",
       "      <td>806.424368</td>\n",
       "      <td>2021-10-18 10:00:00</td>\n",
       "    </tr>\n",
       "    <tr>\n",
       "      <th>5015</th>\n",
       "      <td>5015</td>\n",
       "      <td>1634554800</td>\n",
       "      <td>140061.900423</td>\n",
       "      <td>1.130450e+08</td>\n",
       "      <td>807.107590</td>\n",
       "      <td>2021-10-18 11:00:00</td>\n",
       "    </tr>\n",
       "    <tr>\n",
       "      <th>5016</th>\n",
       "      <td>5016</td>\n",
       "      <td>1634558400</td>\n",
       "      <td>141517.807310</td>\n",
       "      <td>1.118897e+08</td>\n",
       "      <td>790.640749</td>\n",
       "      <td>2021-10-18 12:00:00</td>\n",
       "    </tr>\n",
       "    <tr>\n",
       "      <th>5017</th>\n",
       "      <td>5017</td>\n",
       "      <td>1634562000</td>\n",
       "      <td>143317.798286</td>\n",
       "      <td>1.111852e+08</td>\n",
       "      <td>775.794491</td>\n",
       "      <td>2021-10-18 13:00:00</td>\n",
       "    </tr>\n",
       "  </tbody>\n",
       "</table>\n",
       "</div>"
      ],
      "text/plain": [
       "      Unnamed: 0        date       reserve0      reserve1       price  \\\n",
       "5013        5013  1634547600  139696.849769  1.133346e+08  811.289710   \n",
       "5014        5014  1634551200  140120.033444  1.129962e+08  806.424368   \n",
       "5015        5015  1634554800  140061.900423  1.130450e+08  807.107590   \n",
       "5016        5016  1634558400  141517.807310  1.118897e+08  790.640749   \n",
       "5017        5017  1634562000  143317.798286  1.111852e+08  775.794491   \n",
       "\n",
       "                    Date  \n",
       "5013 2021-10-18 09:00:00  \n",
       "5014 2021-10-18 10:00:00  \n",
       "5015 2021-10-18 11:00:00  \n",
       "5016 2021-10-18 12:00:00  \n",
       "5017 2021-10-18 13:00:00  "
      ]
     },
     "execution_count": 7,
     "metadata": {},
     "output_type": "execute_result"
    }
   ],
   "source": [
    "train.tail()"
   ]
  },
  {
   "cell_type": "code",
   "execution_count": 8,
   "metadata": {},
   "outputs": [
    {
     "data": {
      "text/plain": [
       "<AxesSubplot:title={'center':'OHM Hourly data'}, xlabel='Date'>"
      ]
     },
     "execution_count": 8,
     "metadata": {},
     "output_type": "execute_result"
    },
    {
     "data": {
      "image/png": "[encoded data removed]",
      "text/plain": [
       "<Figure size 432x288 with 1 Axes>"
      ]
     },
     "metadata": {
      "needs_background": "light"
     },
     "output_type": "display_data"
    }
   ],
   "source": [
    "train.plot(x='Date',y='price',title='OHM Hourly data')"
   ]
  },
  {
   "cell_type": "markdown",
   "metadata": {},
   "source": [
    "## Kalman filter\n",
    "\n",
    "Kalman filters are a lightweight algorithm often in an economic context for reducing noise in signals. The Kalman Filter is trained on a subset of the data, and then the parameters are passed into a prediction function for use in subsequent samples. As Kalman filters are one step predictors, at each time step, the filters is retrained and the system state and parameters are updated. \n",
    "\n",
    "This implemention was refined by Andrew Clark in a [recent paper](https://ideas.repec.org/p/rdg/emxxdp/em-dp2020-22.html) that used Kalman filters embedded into a cadCAD model for forecasting exchange rates."
   ]
  },
  {
   "cell_type": "code",
   "execution_count": 9,
   "metadata": {},
   "outputs": [],
   "source": [
    "import pandas as pd\n",
    "import numpy as np\n",
    "from scipy.stats import gamma\n",
    "\n",
    "def kalman_filter(observations,initialValue,truthValues=None,plot=False,paramExport=False):\n",
    "    '''\n",
    "    Description:\n",
    "    Function to create a Kalman Filter for smoothing currency timestamps in order to search for the\n",
    "    intrinisic value.\n",
    "    \n",
    "    Parameters:\n",
    "    observations: Array of observations, i.e. predicted secondary market prices.\n",
    "    initialValue: Initial Starting value of filter\n",
    "    truthValues: Array of truth values, i.e. GPS location or secondary market prices. Or can be left\n",
    "    blank if none exist\n",
    "    plot: If True, plot the observations, truth values and kalman filter.\n",
    "    paramExport: If True, the parameters xhat,P,xhatminus,Pminus,K are returned to use in training.\n",
    "    \n",
    "    Example:\n",
    "    xhat,P,xhatminus,Pminus,K = kalman_filter(observations=train.Close.values[0:-1],\n",
    "                                              initialValue=train.Close.values[-1],paramExport=True)\n",
    "    '''\n",
    "    # intial parameters\n",
    "    n_iter = len(observations)\n",
    "    sz = (n_iter,) # size of array\n",
    "    if isinstance(truthValues,np.ndarray):\n",
    "        x = truthValues # truth value\n",
    "    z = observations# observations (normal about x, sigma=0.1)\n",
    "\n",
    "    Q = 1e-5 # process variance\n",
    "\n",
    "    # allocate space for arrays\n",
    "    xhat=np.zeros(sz)      # a posteri estimate of x\n",
    "    P=np.zeros(sz)         # a posteri error estimate\n",
    "    xhatminus=np.zeros(sz) # a priori estimate of x\n",
    "    Pminus=np.zeros(sz)    # a priori error estimate\n",
    "    K=np.zeros(sz)         # gain or blending factor\n",
    "\n",
    "    R = 0.5**2 # estimate of measurement variance, change to see effect\n",
    "\n",
    "    # intial guesses\n",
    "    xhat[0] = initialValue\n",
    "    P[0] = 1.0\n",
    "\n",
    "    for k in range(1,n_iter):\n",
    "        # time update\n",
    "        xhatminus[k] = xhat[k-1]\n",
    "        Pminus[k] = P[k-1]+Q\n",
    "\n",
    "        # measurement update\n",
    "        K[k] = Pminus[k]/( Pminus[k]+R )\n",
    "        xhat[k] = xhatminus[k]+K[k]*(z[k]-xhatminus[k])\n",
    "        P[k] = (1-K[k])*Pminus[k]\n",
    "\n",
    "    if plot==True:\n",
    "        plt.figure()\n",
    "        plt.plot(z,'k+',label='Actual data')\n",
    "        plt.plot(xhat,'b-',label='a posteri estimate')\n",
    "        if isinstance(truthValues,np.ndarray):\n",
    "            plt.plot(x,color='g',label='truth value')\n",
    "        plt.legend()\n",
    "        plt.title('Kalman Filter Estimates', fontweight='bold')\n",
    "        plt.xlabel('Iteration')\n",
    "        plt.ylabel('USD')\n",
    "        plt.show()\n",
    "\n",
    "    if paramExport==True:\n",
    "        return  xhat,P,xhatminus,Pminus,K\n",
    "\n",
    "    else:\n",
    "\n",
    "        return xhat\n",
    "\n",
    "def kalman_filter_predict(xhat,P,xhatminus,Pminus,K,observations,truthValues=None,paramExport=False):\n",
    "    '''\n",
    "    Description:\n",
    "    Function to predict a pre-trained Kalman Filter 1 step forward.\n",
    "    \n",
    "    Parameters:\n",
    "    xhat: Trained Kalman filter values - array\n",
    "    P: Trained Kalman variance - array\n",
    "    xhatminus: Trained Kalman xhat delta - array\n",
    "    Pminus: Trained Kalman variance delta - array\n",
    "    K: Kalman gain - array\n",
    "    observations: Array of observations, i.e. predicted secondary market prices.\n",
    "    truthValues: Array of truth values, i.e. GPS location or secondary market prices. Or can be left\n",
    "    blank if none exist\n",
    "    paramExport: If True, the parameters xhat,P,xhatminus,Pminus,K are returned to use in next predicted step.\n",
    "    \n",
    "    Example:\n",
    "    xhat,P,xhatminus,Pminus,K = kalman_filter_predict(xhatInput,PInput,\n",
    "                                                      xhatminusInput,PminusInput,KInput,observation,\n",
    "                                                       paramExport=True)\n",
    "    '''\n",
    "    # intial parameters\n",
    "    if isinstance(truthValues,np.ndarray):\n",
    "        x = truthValues # truth value\n",
    "    z = observations# observations (normal about x, sigma=0.1)\n",
    "\n",
    "    Q = 1e-5 # process variance\n",
    "\n",
    "    R = 0.5**2 # estimate of measurement variance, change to see effect\n",
    "\n",
    "\n",
    "    # time update\n",
    "    xhatminus = np.append(xhatminus,xhat[-1])\n",
    "    Pminus = np.append(Pminus,P[-1]+Q)\n",
    "\n",
    "    # measurement update\n",
    "    K = np.append(K,Pminus[-1]/( Pminus[-1]+R ))\n",
    "    xhat = np.append(xhat,xhatminus[-1]+K[-1]*(z[-1]-xhatminus[-1]))\n",
    "    P = np.append(P,(1-K[-1])*Pminus[-1])\n",
    "\n",
    "    if paramExport==True:\n",
    "        return  xhat,P,xhatminus,Pminus,K\n",
    "\n",
    "    else:\n",
    "\n",
    "        return xhat"
   ]
  },
  {
   "cell_type": "markdown",
   "metadata": {},
   "source": [
    "## Process training\n",
    "\n",
    "Fit the gamma distribution off of the training data."
   ]
  },
  {
   "cell_type": "code",
   "execution_count": 10,
   "metadata": {},
   "outputs": [
    {
     "data": {
      "text/plain": [
       "115.20446218418796"
      ]
     },
     "execution_count": 10,
     "metadata": {},
     "output_type": "execute_result"
    }
   ],
   "source": [
    "timesteps = 24 * 365 # 24 hours a day * 365 days a year \n",
    "# fit ohm distribution\n",
    "fit_shape, fit_loc, fit_scale = gamma.fit(train.price.values)\n",
    "sample = np.random.gamma(fit_shape, fit_scale, 100)[0]\n",
    "sample"
   ]
  },
  {
   "cell_type": "code",
   "execution_count": 11,
   "metadata": {},
   "outputs": [
    {
     "data": {
      "text/plain": [
       "Text(0.5, 1.0, 'Histogram of Ohm Price IID Samples')"
      ]
     },
     "execution_count": 11,
     "metadata": {},
     "output_type": "execute_result"
    },
    {
     "data": {
      "image/png": "[encoded data removed]",
      "text/plain": [
       "<Figure size 432x288 with 1 Axes>"
      ]
     },
     "metadata": {
      "needs_background": "light"
     },
     "output_type": "display_data"
    }
   ],
   "source": [
    "# generate 100 samples for initialization of Kalman\n",
    "samples = np.random.gamma(fit_shape, fit_scale, 100)\n",
    "plt.hist(samples)\n",
    "plt.title('Histogram of Ohm Price IID Samples')"
   ]
  },
  {
   "cell_type": "code",
   "execution_count": 12,
   "metadata": {},
   "outputs": [
    {
     "data": {
      "image/png": "[encoded data removed]",
      "text/plain": [
       "<Figure size 432x288 with 1 Axes>"
      ]
     },
     "metadata": {
      "needs_background": "light"
     },
     "output_type": "display_data"
    }
   ],
   "source": [
    "# train kalman\n",
    "xhat,P,xhatminus,Pminus,K = kalman_filter(observations=samples[0:-1],\n",
    "                                          initialValue=samples[-1],paramExport=True,plot=True)"
   ]
  },
  {
   "cell_type": "markdown",
   "metadata": {},
   "source": [
    "## Validation\n",
    "\n",
    "To test how our generator is working, we will make 100 predictions and compare to the test data."
   ]
  },
  {
   "cell_type": "code",
   "execution_count": 13,
   "metadata": {},
   "outputs": [],
   "source": [
    "ohm_values = []\n",
    "filter_values = {'xhat':xhat,'P':P,\n",
    "                 'xhatminus':xhatminus,'Pminus':Pminus,\n",
    "                 'K':K}\n",
    "\n",
    "for i in range(0,100):\n",
    "    sample = np.random.gamma(fit_shape, fit_scale, 1)[0]\n",
    "    ohm_values.append(sample)\n",
    "    xhat,P,xhatminus,Pminus,K = kalman_filter_predict(filter_values['xhat'],\n",
    "                                                  filter_values['P'],\n",
    "                                                  filter_values['xhatminus'],\n",
    "                                                  filter_values['Pminus'],\n",
    "                                                  filter_values['K'],\n",
    "                                                  ohm_values,\n",
    "                                                  paramExport=True)\n",
    "    filter_values = {'xhat':xhat,'P':P,\n",
    "                 'xhatminus':xhatminus,'Pminus':Pminus,\n",
    "                 'K':K}\n",
    "                                                                    "
   ]
  },
  {
   "cell_type": "code",
   "execution_count": null,
   "metadata": {},
   "outputs": [],
   "source": []
  },
  {
   "cell_type": "code",
   "execution_count": 14,
   "metadata": {
    "scrolled": true
   },
   "outputs": [
    {
     "data": {
      "image/png": "[encoded data removed]",
      "text/plain": [
       "<Figure size 432x288 with 1 Axes>"
      ]
     },
     "metadata": {
      "needs_background": "light"
     },
     "output_type": "display_data"
    }
   ],
   "source": [
    "plt.plot(xhat[100:], label = 'Predicted')\n",
    "plt.plot(test.head(100)['price'].values, label = 'Actual')\n",
    "plt.xlabel('Predictions')\n",
    "plt.ylabel('Ohm value in USD')\n",
    "# Set a title of the current axes.\n",
    "plt.title('Predicted vs actual')\n",
    "plt.legend()\n",
    "# Display a figure.\n",
    "plt.show()"
   ]
  },
  {
   "cell_type": "markdown",
   "metadata": {},
   "source": [
    "## Generate data for simulation"
   ]
  },
  {
   "cell_type": "code",
   "execution_count": 15,
   "metadata": {},
   "outputs": [
    {
     "data": {
      "image/png": "[encoded data removed]",
      "text/plain": [
       "<Figure size 432x288 with 1 Axes>"
      ]
     },
     "metadata": {
      "needs_background": "light"
     },
     "output_type": "display_data"
    }
   ],
   "source": [
    "samples = np.random.gamma(fit_shape, fit_scale, 100)\n",
    "# train kalman\n",
    "xhat,P,xhatminus,Pminus,K = kalman_filter(observations=samples[0:-1],\n",
    "                                          initialValue=samples[-1],paramExport=True,plot=True)"
   ]
  },
  {
   "cell_type": "code",
   "execution_count": 16,
   "metadata": {},
   "outputs": [],
   "source": [
    "ohm_values = []\n",
    "filter_values = {'xhat':xhat,'P':P,\n",
    "                 'xhatminus':xhatminus,'Pminus':Pminus,\n",
    "                 'K':K}\n",
    "\n",
    "for i in range(0,timesteps+1):\n",
    "    sample = np.random.gamma(fit_shape, fit_scale, 1)[0]\n",
    "    ohm_values.append(sample)\n",
    "    xhat,P,xhatminus,Pminus,K = kalman_filter_predict(filter_values['xhat'],\n",
    "                                                  filter_values['P'],\n",
    "                                                  filter_values['xhatminus'],\n",
    "                                                  filter_values['Pminus'],\n",
    "                                                  filter_values['K'],\n",
    "                                                  ohm_values,\n",
    "                                                  paramExport=True)\n",
    "    filter_values = {'xhat':xhat,'P':P,\n",
    "                 'xhatminus':xhatminus,'Pminus':Pminus,\n",
    "                 'K':K}\n",
    "                                                                    "
   ]
  },
  {
   "cell_type": "code",
   "execution_count": 17,
   "metadata": {},
   "outputs": [
    {
     "data": {
      "text/plain": [
       "Text(0.5, 1.0, 'Histogram of Ohm Price IID Samples')"
      ]
     },
     "execution_count": 17,
     "metadata": {},
     "output_type": "execute_result"
    },
    {
     "data": {
      "image/png": "[encoded data removed]",
      "text/plain": [
       "<Figure size 432x288 with 1 Axes>"
      ]
     },
     "metadata": {
      "needs_background": "light"
     },
     "output_type": "display_data"
    }
   ],
   "source": [
    "plt.hist(xhat[100:])\n",
    "plt.title('Histogram of Ohm Price IID Samples')"
   ]
  },
  {
   "cell_type": "code",
   "execution_count": 18,
   "metadata": {},
   "outputs": [
    {
     "data": {
      "text/plain": [
       "Text(0.5, 1.0, 'Predicted Ohm Prices')"
      ]
     },
     "execution_count": 18,
     "metadata": {},
     "output_type": "execute_result"
    },
    {
     "data": {
      "image/png": "[encoded data removed]",
      "text/plain": [
       "<Figure size 432x288 with 1 Axes>"
      ]
     },
     "metadata": {
      "needs_background": "light"
     },
     "output_type": "display_data"
    }
   ],
   "source": [
    "plt.plot(xhat[100:])\n",
    "plt.title('Predicted Ohm Prices')"
   ]
  },
  {
   "cell_type": "code",
   "execution_count": 19,
   "metadata": {},
   "outputs": [
    {
     "data": {
      "text/plain": [
       "8760"
      ]
     },
     "execution_count": 19,
     "metadata": {},
     "output_type": "execute_result"
    }
   ],
   "source": [
    "timesteps"
   ]
  },
  {
   "cell_type": "code",
   "execution_count": 20,
   "metadata": {},
   "outputs": [
    {
     "data": {
      "text/html": [
       "<div>\n",
       "<style scoped>\n",
       "    .dataframe tbody tr th:only-of-type {\n",
       "        vertical-align: middle;\n",
       "    }\n",
       "\n",
       "    .dataframe tbody tr th {\n",
       "        vertical-align: top;\n",
       "    }\n",
       "\n",
       "    .dataframe thead th {\n",
       "        text-align: right;\n",
       "    }\n",
       "</style>\n",
       "<table border=\"1\" class=\"dataframe\">\n",
       "  <thead>\n",
       "    <tr style=\"text-align: right;\">\n",
       "      <th></th>\n",
       "      <th>Ohm_price</th>\n",
       "    </tr>\n",
       "  </thead>\n",
       "  <tbody>\n",
       "    <tr>\n",
       "      <th>0</th>\n",
       "      <td>437.980230</td>\n",
       "    </tr>\n",
       "    <tr>\n",
       "      <th>1</th>\n",
       "      <td>214.814734</td>\n",
       "    </tr>\n",
       "    <tr>\n",
       "      <th>2</th>\n",
       "      <td>310.400988</td>\n",
       "    </tr>\n",
       "    <tr>\n",
       "      <th>3</th>\n",
       "      <td>245.228039</td>\n",
       "    </tr>\n",
       "    <tr>\n",
       "      <th>4</th>\n",
       "      <td>764.910098</td>\n",
       "    </tr>\n",
       "  </tbody>\n",
       "</table>\n",
       "</div>"
      ],
      "text/plain": [
       "    Ohm_price\n",
       "0  437.980230\n",
       "1  214.814734\n",
       "2  310.400988\n",
       "3  245.228039\n",
       "4  764.910098"
      ]
     },
     "execution_count": 20,
     "metadata": {},
     "output_type": "execute_result"
    }
   ],
   "source": [
    "ohm_prices = pd.DataFrame(ohm_values,columns=['Ohm_price'])\n",
    "ohm_prices.head()"
   ]
  },
  {
   "cell_type": "code",
   "execution_count": 21,
   "metadata": {},
   "outputs": [],
   "source": [
    "# export data\n",
    "ohm_prices.to_csv('data/ohm_prices.csv')"
   ]
  },
  {
   "cell_type": "markdown",
   "metadata": {},
   "source": [
    "### Generate Monte Carlo runs"
   ]
  },
  {
   "cell_type": "code",
   "execution_count": 24,
   "metadata": {},
   "outputs": [],
   "source": [
    "def generate_timeseries(xhat, P, xhatminus, Pminus, K):\n",
    "    values = []\n",
    "    filter_values = {'xhat':xhat,'P':P,\n",
    "                     'xhatminus':xhatminus,'Pminus':Pminus,\n",
    "                     'K':K}\n",
    "\n",
    "    for i in range(0,timesteps+1):\n",
    "        sample = np.random.gamma(fit_shape, fit_scale, 1)[0]\n",
    "        values.append(sample)\n",
    "        xhat,P,xhatminus,Pminus,K = kalman_filter_predict(filter_values['xhat'],\n",
    "                                                      filter_values['P'],\n",
    "                                                      filter_values['xhatminus'],\n",
    "                                                      filter_values['Pminus'],\n",
    "                                                      filter_values['K'],\n",
    "                                                      values,\n",
    "                                                      paramExport=True)\n",
    "        filter_values = {'xhat':xhat,'P':P,\n",
    "                     'xhatminus':xhatminus,'Pminus':Pminus,\n",
    "                     'K':K}\n",
    "\n",
    "    return values, xhat, P, xhatminus, Pminus, K"
   ]
  },
  {
   "cell_type": "code",
   "execution_count": 26,
   "metadata": {},
   "outputs": [
    {
     "data": {
      "text/html": [
       "<div>\n",
       "<style scoped>\n",
       "    .dataframe tbody tr th:only-of-type {\n",
       "        vertical-align: middle;\n",
       "    }\n",
       "\n",
       "    .dataframe tbody tr th {\n",
       "        vertical-align: top;\n",
       "    }\n",
       "\n",
       "    .dataframe thead th {\n",
       "        text-align: right;\n",
       "    }\n",
       "</style>\n",
       "<table border=\"1\" class=\"dataframe\">\n",
       "  <thead>\n",
       "    <tr style=\"text-align: right;\">\n",
       "      <th></th>\n",
       "      <th>0</th>\n",
       "      <th>1</th>\n",
       "      <th>2</th>\n",
       "      <th>3</th>\n",
       "      <th>4</th>\n",
       "      <th>5</th>\n",
       "      <th>6</th>\n",
       "      <th>7</th>\n",
       "      <th>8</th>\n",
       "      <th>9</th>\n",
       "    </tr>\n",
       "  </thead>\n",
       "  <tbody>\n",
       "    <tr>\n",
       "      <th>0</th>\n",
       "      <td>369.975786</td>\n",
       "      <td>365.520141</td>\n",
       "      <td>387.489349</td>\n",
       "      <td>361.415613</td>\n",
       "      <td>375.055865</td>\n",
       "      <td>382.694775</td>\n",
       "      <td>359.289777</td>\n",
       "      <td>348.480021</td>\n",
       "      <td>380.905669</td>\n",
       "      <td>370.397761</td>\n",
       "    </tr>\n",
       "    <tr>\n",
       "      <th>1</th>\n",
       "      <td>366.577325</td>\n",
       "      <td>362.283748</td>\n",
       "      <td>383.816302</td>\n",
       "      <td>365.402478</td>\n",
       "      <td>379.885429</td>\n",
       "      <td>380.685359</td>\n",
       "      <td>356.955712</td>\n",
       "      <td>347.215801</td>\n",
       "      <td>390.041575</td>\n",
       "      <td>371.998421</td>\n",
       "    </tr>\n",
       "    <tr>\n",
       "      <th>2</th>\n",
       "      <td>367.907081</td>\n",
       "      <td>362.524350</td>\n",
       "      <td>381.981187</td>\n",
       "      <td>363.809644</td>\n",
       "      <td>375.942401</td>\n",
       "      <td>380.511167</td>\n",
       "      <td>356.437053</td>\n",
       "      <td>351.042080</td>\n",
       "      <td>385.987388</td>\n",
       "      <td>368.655551</td>\n",
       "    </tr>\n",
       "    <tr>\n",
       "      <th>3</th>\n",
       "      <td>364.372579</td>\n",
       "      <td>361.497191</td>\n",
       "      <td>384.553270</td>\n",
       "      <td>363.512300</td>\n",
       "      <td>378.815847</td>\n",
       "      <td>383.988304</td>\n",
       "      <td>355.994407</td>\n",
       "      <td>351.272107</td>\n",
       "      <td>384.167432</td>\n",
       "      <td>371.266214</td>\n",
       "    </tr>\n",
       "    <tr>\n",
       "      <th>4</th>\n",
       "      <td>361.424096</td>\n",
       "      <td>359.352327</td>\n",
       "      <td>386.200657</td>\n",
       "      <td>362.728601</td>\n",
       "      <td>377.368954</td>\n",
       "      <td>380.973654</td>\n",
       "      <td>359.250384</td>\n",
       "      <td>349.001501</td>\n",
       "      <td>383.279523</td>\n",
       "      <td>367.572682</td>\n",
       "    </tr>\n",
       "    <tr>\n",
       "      <th>...</th>\n",
       "      <td>...</td>\n",
       "      <td>...</td>\n",
       "      <td>...</td>\n",
       "      <td>...</td>\n",
       "      <td>...</td>\n",
       "      <td>...</td>\n",
       "      <td>...</td>\n",
       "      <td>...</td>\n",
       "      <td>...</td>\n",
       "      <td>...</td>\n",
       "    </tr>\n",
       "    <tr>\n",
       "      <th>8754</th>\n",
       "      <td>370.907804</td>\n",
       "      <td>373.877905</td>\n",
       "      <td>352.199628</td>\n",
       "      <td>354.595755</td>\n",
       "      <td>326.967455</td>\n",
       "      <td>356.962592</td>\n",
       "      <td>379.760407</td>\n",
       "      <td>376.927346</td>\n",
       "      <td>349.391290</td>\n",
       "      <td>340.309486</td>\n",
       "    </tr>\n",
       "    <tr>\n",
       "      <th>8755</th>\n",
       "      <td>369.329254</td>\n",
       "      <td>371.548889</td>\n",
       "      <td>352.348264</td>\n",
       "      <td>352.762068</td>\n",
       "      <td>326.295362</td>\n",
       "      <td>357.355888</td>\n",
       "      <td>380.394031</td>\n",
       "      <td>376.021025</td>\n",
       "      <td>350.932059</td>\n",
       "      <td>340.131453</td>\n",
       "    </tr>\n",
       "    <tr>\n",
       "      <th>8756</th>\n",
       "      <td>368.672163</td>\n",
       "      <td>371.790928</td>\n",
       "      <td>350.392953</td>\n",
       "      <td>351.669775</td>\n",
       "      <td>325.756276</td>\n",
       "      <td>355.980868</td>\n",
       "      <td>383.863571</td>\n",
       "      <td>374.631493</td>\n",
       "      <td>349.156640</td>\n",
       "      <td>341.628756</td>\n",
       "    </tr>\n",
       "    <tr>\n",
       "      <th>8757</th>\n",
       "      <td>368.122745</td>\n",
       "      <td>370.918678</td>\n",
       "      <td>352.074123</td>\n",
       "      <td>351.356815</td>\n",
       "      <td>323.993457</td>\n",
       "      <td>354.652607</td>\n",
       "      <td>381.879524</td>\n",
       "      <td>372.802352</td>\n",
       "      <td>348.601646</td>\n",
       "      <td>341.752460</td>\n",
       "    </tr>\n",
       "    <tr>\n",
       "      <th>8758</th>\n",
       "      <td>370.042859</td>\n",
       "      <td>369.451867</td>\n",
       "      <td>352.517736</td>\n",
       "      <td>350.652279</td>\n",
       "      <td>323.289889</td>\n",
       "      <td>353.473737</td>\n",
       "      <td>380.060078</td>\n",
       "      <td>373.135236</td>\n",
       "      <td>347.073955</td>\n",
       "      <td>341.438312</td>\n",
       "    </tr>\n",
       "  </tbody>\n",
       "</table>\n",
       "<p>8759 rows × 10 columns</p>\n",
       "</div>"
      ],
      "text/plain": [
       "               0           1           2           3           4           5  \\\n",
       "0     369.975786  365.520141  387.489349  361.415613  375.055865  382.694775   \n",
       "1     366.577325  362.283748  383.816302  365.402478  379.885429  380.685359   \n",
       "2     367.907081  362.524350  381.981187  363.809644  375.942401  380.511167   \n",
       "3     364.372579  361.497191  384.553270  363.512300  378.815847  383.988304   \n",
       "4     361.424096  359.352327  386.200657  362.728601  377.368954  380.973654   \n",
       "...          ...         ...         ...         ...         ...         ...   \n",
       "8754  370.907804  373.877905  352.199628  354.595755  326.967455  356.962592   \n",
       "8755  369.329254  371.548889  352.348264  352.762068  326.295362  357.355888   \n",
       "8756  368.672163  371.790928  350.392953  351.669775  325.756276  355.980868   \n",
       "8757  368.122745  370.918678  352.074123  351.356815  323.993457  354.652607   \n",
       "8758  370.042859  369.451867  352.517736  350.652279  323.289889  353.473737   \n",
       "\n",
       "               6           7           8           9  \n",
       "0     359.289777  348.480021  380.905669  370.397761  \n",
       "1     356.955712  347.215801  390.041575  371.998421  \n",
       "2     356.437053  351.042080  385.987388  368.655551  \n",
       "3     355.994407  351.272107  384.167432  371.266214  \n",
       "4     359.250384  349.001501  383.279523  367.572682  \n",
       "...          ...         ...         ...         ...  \n",
       "8754  379.760407  376.927346  349.391290  340.309486  \n",
       "8755  380.394031  376.021025  350.932059  340.131453  \n",
       "8756  383.863571  374.631493  349.156640  341.628756  \n",
       "8757  381.879524  372.802352  348.601646  341.752460  \n",
       "8758  380.060078  373.135236  347.073955  341.438312  \n",
       "\n",
       "[8759 rows x 10 columns]"
      ]
     },
     "execution_count": 26,
     "metadata": {},
     "output_type": "execute_result"
    }
   ],
   "source": [
    "monte_carlo_runs = 10\n",
    "\n",
    "values_mc = {}\n",
    "for run in range(0, monte_carlo_runs):\n",
    "    np.random.seed(seed=run)\n",
    "    \n",
    "    buffer_for_transcients = 100\n",
    "    samples = np.random.gamma(fit_shape, fit_scale, timesteps + buffer_for_transcients)\n",
    "    # train kalman\n",
    "    xhat,P,xhatminus,Pminus,K = kalman_filter(observations=samples[0:-1],\n",
    "                                              initialValue=samples[-1],paramExport=True,plot=False)\n",
    "    \n",
    "    # values, _, _, _, _, _ = generate_eth_timeseries(xhat, P, xhatminus, Pminus, K)\n",
    "    values_mc[run] = xhat[buffer_for_transcients:]\n",
    "    \n",
    "values, xhat, P, xhatminus, Pminus, K = generate_timeseries(xhat, P, xhatminus, Pminus, K)\n",
    "\n",
    "values_mc_df = pd.DataFrame(values_mc)\n",
    "values_mc_df.to_csv('data/ohm_values_mc.csv')\n",
    "values_mc_df"
   ]
  },
  {
   "cell_type": "markdown",
   "metadata": {},
   "source": [
    "## Implementation information\n",
    "Below is an example of how to integrate these univariate time series datasets into the exogenous process section of a cadCAD model, assuming each timestep is an hour.\n",
    "\n",
    "\n",
    "```\n",
    "    \n",
    "# partial_state_update_block.py\n",
    "partial_state_update_block = {\n",
    "    # Exogenous\n",
    "    'Exogenous': {\n",
    "        'policies': {\n",
    "        },\n",
    "        'variables': {\n",
    "            'eth_price': eth_price_mech,\n",
    "        }\n",
    "    },\n",
    "    \n",
    "# exogenousProcesses.py\n",
    "\n",
    "\n",
    "# import libraries\n",
    "import pandas as pd\n",
    "\n",
    "# import data\n",
    "eth_prices = pd.read_csv('data/eth_prices.csv')\n",
    "\n",
    "# mechanisms\n",
    "def eth_price_mech(params, step, sL, s, _input):\n",
    "    y = 'eth_price'\n",
    "    timestep = s['timestep'] \n",
    "    x = eth_prices.Eth_price.values[timestep]\n",
    "    return (y, x)\n",
    "\n",
    "    \n",
    "```"
   ]
  },
  {
   "cell_type": "markdown",
   "metadata": {},
   "source": [
    "## Conclusion\n",
    "\n",
    "In this notebook, we've read in hourly historical eth data from kaggle, defined functions for fitting and making predictions off of a gamma distribution, which is comminly used in for random walk calculations, and defined functions for de-noising kalman filter. We then validated the structure of these functions and predicted 100 timesteps for evaluation and demonstration purposes. Finally, we provided an overview of how to fit this code into cadCAD. Next steps could include:\n",
    "* Refining the Kalman filter hyperparameters\n",
    "* Refining the gamma prediction tuning parameter\n",
    "* More thorough model validation\n",
    "* Add seasonality\n",
    "\n"
   ]
  }
 ],
 "metadata": {
  "kernelspec": {
   "display_name": "Python (Reflexer)",
   "language": "python",
   "name": "python-reflexer"
  },
  "language_info": {
   "codemirror_mode": {
    "name": "ipython",
    "version": 3
   },
   "file_extension": ".py",
   "mimetype": "text/x-python",
   "name": "python",
   "nbconvert_exporter": "python",
   "pygments_lexer": "ipython3",
   "version": "3.8.5"
  }
 },
 "nbformat": 4,
 "nbformat_minor": 4
}
